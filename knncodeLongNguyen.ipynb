{
 "cells": [
  {
   "cell_type": "code",
   "execution_count": 51,
   "id": "3d138f41",
   "metadata": {},
   "outputs": [
    {
     "name": "stdout",
     "output_type": "stream",
     "text": [
      " ---------------------------------------- \n",
      "   City Services Availability  Housing Cost  Quality of schools  \\\n",
      "0                           5             3                 3.0   \n",
      "1                           5             3                 3.0   \n",
      "2                           4             3                 3.0   \n",
      "3                           4             1                 3.0   \n",
      "4                           3             2                 4.0   \n",
      "\n",
      "   Community trust in local police  Community Maintenance  \\\n",
      "0                              3.0                      5   \n",
      "1                              3.0                      5   \n",
      "2                              3.0                      4   \n",
      "3                              4.0                      4   \n",
      "4                              4.0                      4   \n",
      "\n",
      "   Availability of Community Room   Unhappy/Happy  \n",
      "0                                3              1  \n",
      "1                                3              0  \n",
      "2                                4              0  \n",
      "3                                5              0  \n",
      "4                                5              1  \n"
     ]
    }
   ],
   "source": [
    "import pandas as pd\n",
    "from scipy.stats import pearsonr as pc\n",
    "from sklearn.model_selection import train_test_split\n",
    "import math as m\n",
    "from sklearn.metrics import classification_report\n",
    "from sklearn.metrics import confusion_matrix\n",
    "import matplotlib.pyplot as plt\n",
    "\n",
    "# STEP 1,2,3\n",
    "\n",
    "def fill_all_missing(df):\n",
    "  for (columnName, columnData) in df.iteritems():\n",
    "    if (columnData.isnull().values.any() == True):\n",
    "      median = int(df[columnName].median())\n",
    "      df[columnName].fillna(median, inplace=True)\n",
    "  print(\" ---------------------------------------- \")\n",
    "\n",
    "\n",
    "df = pd.read_csv(\"HappinessData.csv\")\n",
    "\n",
    "# Fill missing data\n",
    "fill_all_missing(df)\n",
    "\n",
    "# Get label column\n",
    "label_column_title = 'Unhappy/Happy'\n",
    "label_column = df.pop(label_column_title)\n",
    "\n",
    "# Added the label column to the end of the dataset\n",
    "df.insert(len(df.columns), label_column_title, label_column)\n",
    "\n",
    "print(df.head())\n",
    "\n"
   ]
  },
  {
   "cell_type": "code",
   "execution_count": 52,
   "id": "98686e9a",
   "metadata": {},
   "outputs": [
    {
     "name": "stdout",
     "output_type": "stream",
     "text": [
      "[0.3186738565599665, 0.029135851491046496, 0.18051569017860802, 0.13771681575799297, 0.214967330343903, 0.22457485552847423]\n"
     ]
    }
   ],
   "source": [
    "# Pearsons Correlation - STEP 4\n",
    "cors = []\n",
    "for (columnName, columnData) in df.iteritems():\n",
    "  cors.append(pc(columnData, label_column)[0])\n",
    "cors.pop()\n",
    "\n",
    "print(cors)"
   ]
  },
  {
   "cell_type": "code",
   "execution_count": 53,
   "id": "a0f0ef7d",
   "metadata": {},
   "outputs": [],
   "source": [
    "# split dataset - THIS SHUFFLE AGAIN ONCE COMPILE \n",
    "train, test = train_test_split(df, test_size=0.2)"
   ]
  },
  {
   "cell_type": "code",
   "execution_count": 54,
   "id": "5f36ae3b",
   "metadata": {
    "scrolled": true
   },
   "outputs": [
    {
     "name": "stdout",
     "output_type": "stream",
     "text": [
      "Performance of self implementation\n",
      "              precision    recall  f1-score   support\n",
      "\n",
      "         0.0       0.54      0.44      0.48        16\n",
      "         1.0       0.40      0.50      0.44        12\n",
      "\n",
      "    accuracy                           0.46        28\n",
      "   macro avg       0.47      0.47      0.46        28\n",
      "weighted avg       0.48      0.46      0.47        28\n",
      "\n",
      "[[7 9]\n",
      " [6 6]]\n",
      "Accuracy rate of knn implementation:  0.46\n",
      "error rate 0.5357142857142857\n",
      "please wait for 30 sec...\n"
     ]
    },
    {
     "data": {
      "text/plain": [
       "[<matplotlib.lines.Line2D at 0x7fdda121dfd0>]"
      ]
     },
     "execution_count": 54,
     "metadata": {},
     "output_type": "execute_result"
    },
    {
     "data": {
      "image/png": "[encoded data removed]",
      "text/plain": [
       "<Figure size 432x288 with 1 Axes>"
      ]
     },
     "metadata": {
      "needs_background": "light"
     },
     "output_type": "display_data"
    }
   ],
   "source": [
    "# calculate the Euclidean distance - STEP 5\n",
    "def euclidean_distance(row1 : pd.Series, row2 : pd.Series):\n",
    "  distance = 0.0\n",
    "  # print(row1)\n",
    "  for a in range(0,len(row1)-1):\n",
    "    distance+=((row1[a] - row2[a])**2)\n",
    "  # print(distance)\n",
    "  # print(m.sqrt(distance))\n",
    "  return m.sqrt(distance)  \n",
    "\n",
    "def get_neighbors(train : pd.DataFrame, test_row, k):\n",
    "  distances = []\n",
    "  for i in range(0, len(train)):\n",
    "    dist = euclidean_distance(train.iloc[i], test_row)\n",
    "    distances.append((dist, train.  iloc[i][6]))\n",
    "  distances.sort()\n",
    "  # print(distances[0:3][0], \"and\", distances[0:3][1])\n",
    "  return distances[0:k]\n",
    "\n",
    "# Get the desired number of neighbors and predict\n",
    "def predict(train_set, new_rec, k=5):\n",
    "  neighbors = get_neighbors(train_set, new_rec, k)\n",
    "  categories = [0,0]\n",
    "  for neighbor in neighbors:\n",
    "    # print(neighbor[1])\n",
    "    categories[int(neighbor[1])]+=1\n",
    "  # print(categories.index(max(categories)))\n",
    "  return categories.index(max(categories))\n",
    "\n",
    "def accuracy_prob(train_y, test_y):\n",
    "  right = 0.0\n",
    "  for i in range(0, len(train_y)):\n",
    "    if (train_y[i] == test_y[i]):\n",
    "      right+=1\n",
    "  return (right)/len(train_y)\n",
    "\n",
    "# train the implemented model with k = 5\n",
    "train_y_implemented = []\n",
    "test_y_implemented = []\n",
    "for i in range(0, len(test)):\n",
    "  prediction = predict(train, test.iloc[i])\n",
    "  train_y_implemented.append(prediction)\n",
    "  test_y_implemented.append(test.iloc[i][6])\n",
    "\n",
    "\n",
    "print(\"Performance of self implementation\")\n",
    "print(classification_report(test_y_implemented, train_y_implemented))\n",
    "print(confusion_matrix(test_y_implemented, train_y_implemented))\n",
    "p = accuracy_prob(train_y_implemented, test_y_implemented)\n",
    "print(\"Accuracy rate of knn implementation: \", \"{:.2f}\".format(p))\n",
    "error_rate_implemented = 1 - p\n",
    "print(\"error rate\" , error_rate_implemented)\n",
    "\n",
    "# train with k = 5 to k = 15\n",
    "error_rates_implemented = []\n",
    "train_y_implemented = []\n",
    "test_y_implemented = []\n",
    "print(\"please wait for 30 sec...\")\n",
    "\n",
    "for k in range(5, 40):\n",
    "  for i in range(0, len(test)):\n",
    "    prediction = predict(train, test.iloc[i], k)\n",
    "    train_y_implemented.append(prediction)\n",
    "    test_y_implemented.append(test.iloc[i][6])\n",
    "  p = accuracy_prob(train_y_implemented, test_y_implemented)\n",
    "  error_rates_implemented.append(1 - p)\n",
    "\n",
    "plt.plot(error_rates_implemented, marker=\"o\")\n",
    "\n"
   ]
  },
  {
   "cell_type": "code",
   "execution_count": 55,
   "id": "7545b7f1",
   "metadata": {},
   "outputs": [
    {
     "name": "stdout",
     "output_type": "stream",
     "text": [
      "Performance of sklearn\n",
      "              precision    recall  f1-score   support\n",
      "\n",
      "           0       0.55      0.38      0.44        16\n",
      "           1       0.41      0.58      0.48        12\n",
      "\n",
      "    accuracy                           0.46        28\n",
      "   macro avg       0.48      0.48      0.46        28\n",
      "weighted avg       0.49      0.46      0.46        28\n",
      "\n",
      "[[ 6 10]\n",
      " [ 5  7]]\n",
      "Accuracy rate of sklearn knn:  0.46\n",
      "error rate 0.5357142857142857\n"
     ]
    },
    {
     "data": {
      "text/plain": [
       "[<matplotlib.lines.Line2D at 0x7fdda11ff880>]"
      ]
     },
     "execution_count": 55,
     "metadata": {},
     "output_type": "execute_result"
    },
    {
     "data": {
      "image/png": "[encoded data removed]",
      "text/plain": [
       "<Figure size 432x288 with 1 Axes>"
      ]
     },
     "metadata": {
      "needs_background": "light"
     },
     "output_type": "display_data"
    }
   ],
   "source": [
    "# Scikit-learn version - STEP 6\n",
    "from sklearn.neighbors import KNeighborsClassifier\n",
    "\n",
    "train_x = train.loc[:, train.columns != 'Unhappy/Happy']\n",
    "train_y = train['Unhappy/Happy']\n",
    "test_x = test.loc[:, test.columns != 'Unhappy/Happy']\n",
    "test_y = test['Unhappy/Happy'].to_list()\n",
    "\n",
    "# train the model with k = 5\n",
    "knn = KNeighborsClassifier(n_neighbors=5)\n",
    "knn.fit(train_x, train_y)\n",
    "\n",
    "# get prediction\n",
    "prediction_knn = knn.predict(test_x).tolist()\n",
    "\n",
    "print(\"Performance of sklearn\")\n",
    "print(classification_report(test_y, prediction_knn))\n",
    "print(confusion_matrix(test_y, prediction_knn))\n",
    "p_knn = accuracy_prob(test_y, prediction_knn)\n",
    "print(\"Accuracy rate of sklearn knn: \", \"{:.2f}\".format(p_knn))\n",
    "error_rate_knn = 1 - p_knn\n",
    "print(\"error rate\" , error_rate_knn)\n",
    "\n",
    "# train the knn model with k = 5 to k = 15\n",
    "error_rates_knn = []\n",
    "for i in range(5, 40):\n",
    "    knn = KNeighborsClassifier(n_neighbors=i)\n",
    "    knn.fit(train_x, train_y)\n",
    "    prediction_knn = knn.predict(test_x).tolist()\n",
    "    p_knn = accuracy_prob(test_y, prediction_knn)\n",
    "    error_rates_knn.append(1-p_knn)\n",
    "\n",
    "plt.plot(error_rates_knn, marker=\"o\")"
   ]
  },
  {
   "cell_type": "code",
   "execution_count": null,
   "id": "bd94b03c",
   "metadata": {},
   "outputs": [],
   "source": []
  },
  {
   "cell_type": "code",
   "execution_count": null,
   "id": "64f87a9a",
   "metadata": {},
   "outputs": [],
   "source": []
  }
 ],
 "metadata": {
  "kernelspec": {
   "display_name": "Python 3 (ipykernel)",
   "language": "python",
   "name": "python3"
  },
  "language_info": {
   "codemirror_mode": {
    "name": "ipython",
    "version": 3
   },
   "file_extension": ".py",
   "mimetype": "text/x-python",
   "name": "python",
   "nbconvert_exporter": "python",
   "pygments_lexer": "ipython3",
   "version": "3.8.10"
  }
 },
 "nbformat": 4,
 "nbformat_minor": 5
}
